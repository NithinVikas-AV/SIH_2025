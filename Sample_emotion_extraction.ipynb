{
 "cells": [
  {
   "cell_type": "markdown",
   "id": "5dcddfc7",
   "metadata": {},
   "source": [
    "## joeddav/distilbert-base-uncased-go-emotions-student"
   ]
  },
  {
   "cell_type": "code",
   "execution_count": null,
   "id": "47ee1226",
   "metadata": {},
   "outputs": [],
   "source": [
    "from transformers import AutoTokenizer, AutoModelForSequenceClassification\n",
    "import torch\n",
    "import torch.nn.functional as F\n",
    "\n",
    "# 🔹 Load tokenizer & model\n",
    "MODEL = \"joeddav/distilbert-base-uncased-go-emotions-student\"\n",
    "tokenizer = AutoTokenizer.from_pretrained(MODEL)\n",
    "model = AutoModelForSequenceClassification.from_pretrained(MODEL)\n",
    "\n",
    "# Move model to GPU if available\n",
    "device = torch.device(\"cuda\" if torch.cuda.is_available() else \"cpu\")\n",
    "model.to(device)\n",
    "\n",
    "# Get label mapping\n",
    "id2label = model.config.id2label\n",
    "\n",
    "def classify_emotions(text):\n",
    "    \"\"\"\n",
    "    Run multi-label emotion classification\n",
    "    Args:\n",
    "        text (str): Input sentence\n",
    "    Returns:\n",
    "        dict: all emotions with probabilities (sorted by score)\n",
    "    \"\"\"\n",
    "    # Tokenize input and move to GPU/CPU\n",
    "    inputs = tokenizer(text, return_tensors=\"pt\", truncation=True).to(device)\n",
    "\n",
    "    # Run inference\n",
    "    with torch.no_grad():\n",
    "        outputs = model(**inputs)\n",
    "        logits = outputs.logits\n",
    "        probs = F.sigmoid(logits)[0].cpu().numpy()  # multi-label uses sigmoid\n",
    "\n",
    "    # Get all emotions with probabilities\n",
    "    results = {id2label[i]: float(probs[i]) for i in range(len(probs))}\n",
    "\n",
    "    # Sort by probability (descending)\n",
    "    results = dict(sorted(results.items(), key=lambda x: x[1], reverse=True))\n",
    "    return results\n",
    "\n",
    "# 🔹 Example usage\n",
    "if __name__ == \"__main__\":\n",
    "    sentence = \"I failed in my exams i feel sad\"\n",
    "    emotions = classify_emotions(sentence)\n",
    "\n",
    "    print(\"Input:\", sentence)\n",
    "    print(\"Detected Emotions (sorted):\")\n",
    "    for emotion, score in emotions.items():\n",
    "        print(f\"  {emotion}: {score:.3f}\")"
   ]
  },
  {
   "cell_type": "markdown",
   "id": "b6a6538e",
   "metadata": {},
   "source": [
    "## bhadresh-savani/bert-base-go-emotion"
   ]
  },
  {
   "cell_type": "code",
   "execution_count": 3,
   "id": "34770df9",
   "metadata": {},
   "outputs": [
    {
     "name": "stdout",
     "output_type": "stream",
     "text": [
      "Input: I failed in my exams i feel sad\n",
      "Detected Emotions (sorted):\n",
      "  sadness: 0.756\n",
      "  disappointment: 0.181\n",
      "  remorse: 0.085\n",
      "  neutral: 0.068\n",
      "  grief: 0.049\n",
      "  realization: 0.029\n",
      "  annoyance: 0.029\n",
      "  caring: 0.028\n",
      "  approval: 0.027\n",
      "  nervousness: 0.021\n",
      "  disapproval: 0.016\n",
      "  embarrassment: 0.016\n",
      "  fear: 0.016\n",
      "  admiration: 0.013\n",
      "  anger: 0.013\n",
      "  optimism: 0.010\n",
      "  desire: 0.009\n",
      "  love: 0.009\n",
      "  joy: 0.008\n",
      "  amusement: 0.008\n",
      "  disgust: 0.007\n",
      "  curiosity: 0.007\n",
      "  gratitude: 0.007\n",
      "  excitement: 0.006\n",
      "  relief: 0.005\n",
      "  confusion: 0.005\n",
      "  surprise: 0.004\n",
      "  pride: 0.003\n"
     ]
    },
    {
     "name": "stderr",
     "output_type": "stream",
     "text": [
      "Xet Storage is enabled for this repo, but the 'hf_xet' package is not installed. Falling back to regular HTTP download. For better performance, install the package with: `pip install huggingface_hub[hf_xet]` or `pip install hf_xet`\n"
     ]
    }
   ],
   "source": [
    "from transformers import AutoTokenizer, AutoModelForSequenceClassification\n",
    "import torch\n",
    "import torch.nn.functional as F\n",
    "\n",
    "# 🔹 Load tokenizer & model\n",
    "MODEL = \"bhadresh-savani/bert-base-go-emotion\"\n",
    "tokenizer = AutoTokenizer.from_pretrained(MODEL)\n",
    "model = AutoModelForSequenceClassification.from_pretrained(MODEL)\n",
    "\n",
    "# Move model to GPU if available\n",
    "device = torch.device(\"cuda\" if torch.cuda.is_available() else \"cpu\")\n",
    "model.to(device)\n",
    "\n",
    "# Get label mapping\n",
    "id2label = model.config.id2label\n",
    "\n",
    "def classify_emotions(text):\n",
    "    \"\"\"\n",
    "    Run multi-label emotion classification\n",
    "    Args:\n",
    "        text (str): Input sentence\n",
    "    Returns:\n",
    "        dict: all emotions with probabilities (sorted by score)\n",
    "    \"\"\"\n",
    "    # Tokenize input and move to GPU/CPU\n",
    "    inputs = tokenizer(text, return_tensors=\"pt\", truncation=True).to(device)\n",
    "\n",
    "    # Run inference\n",
    "    with torch.no_grad():\n",
    "        outputs = model(**inputs)\n",
    "        logits = outputs.logits\n",
    "        probs = F.sigmoid(logits)[0].cpu().numpy()  # multi-label uses sigmoid\n",
    "\n",
    "    # Get all emotions with probabilities\n",
    "    results = {id2label[i]: float(probs[i]) for i in range(len(probs))}\n",
    "\n",
    "    # Sort by probability (descending)\n",
    "    results = dict(sorted(results.items(), key=lambda x: x[1], reverse=True))\n",
    "    return results\n",
    "\n",
    "# 🔹 Example usage\n",
    "if __name__ == \"__main__\":\n",
    "    sentence = \"I failed in my exams i feel sad\"\n",
    "    emotions = classify_emotions(sentence)\n",
    "\n",
    "    print(\"Input:\", sentence)\n",
    "    print(\"Detected Emotions (sorted):\")\n",
    "    for emotion, score in emotions.items():\n",
    "        print(f\"  {emotion}: {score:.3f}\")"
   ]
  },
  {
   "cell_type": "markdown",
   "id": "377be2ea",
   "metadata": {},
   "source": [
    "## SamLowe/roberta-base-go_emotions"
   ]
  },
  {
   "cell_type": "code",
   "execution_count": 4,
   "id": "a633cb6e",
   "metadata": {},
   "outputs": [
    {
     "name": "stderr",
     "output_type": "stream",
     "text": [
      "d:\\Hackathons\\SIH 25\\sih_env\\Lib\\site-packages\\huggingface_hub\\file_download.py:143: UserWarning: `huggingface_hub` cache-system uses symlinks by default to efficiently store duplicated files but your machine does not support them in C:\\Users\\nithi\\.cache\\huggingface\\hub\\models--SamLowe--roberta-base-go_emotions. Caching files will still work but in a degraded version that might require more space on your disk. This warning can be disabled by setting the `HF_HUB_DISABLE_SYMLINKS_WARNING` environment variable. For more details, see https://huggingface.co/docs/huggingface_hub/how-to-cache#limitations.\n",
      "To support symlinks on Windows, you either need to activate Developer Mode or to run Python as an administrator. In order to activate developer mode, see this article: https://docs.microsoft.com/en-us/windows/apps/get-started/enable-your-device-for-development\n",
      "  warnings.warn(message)\n",
      "Xet Storage is enabled for this repo, but the 'hf_xet' package is not installed. Falling back to regular HTTP download. For better performance, install the package with: `pip install huggingface_hub[hf_xet]` or `pip install hf_xet`\n"
     ]
    },
    {
     "name": "stdout",
     "output_type": "stream",
     "text": [
      "Input: I failed in my exams i feel sad\n",
      "Detected Emotions (sorted):\n",
      "  sadness: 0.898\n",
      "  disappointment: 0.097\n",
      "  grief: 0.025\n",
      "  remorse: 0.020\n",
      "  neutral: 0.020\n",
      "  annoyance: 0.011\n",
      "  realization: 0.011\n",
      "  approval: 0.008\n",
      "  caring: 0.008\n",
      "  disapproval: 0.008\n",
      "  admiration: 0.008\n",
      "  love: 0.007\n",
      "  joy: 0.006\n",
      "  anger: 0.005\n",
      "  nervousness: 0.005\n",
      "  amusement: 0.005\n",
      "  disgust: 0.004\n",
      "  desire: 0.004\n",
      "  curiosity: 0.004\n",
      "  fear: 0.004\n",
      "  gratitude: 0.003\n",
      "  optimism: 0.003\n",
      "  confusion: 0.003\n",
      "  surprise: 0.002\n",
      "  embarrassment: 0.002\n",
      "  relief: 0.002\n",
      "  excitement: 0.002\n",
      "  pride: 0.000\n"
     ]
    }
   ],
   "source": [
    "from transformers import AutoTokenizer, AutoModelForSequenceClassification\n",
    "import torch\n",
    "import torch.nn.functional as F\n",
    "\n",
    "# 🔹 Load tokenizer & model\n",
    "MODEL = \"SamLowe/roberta-base-go_emotions\"\n",
    "tokenizer = AutoTokenizer.from_pretrained(MODEL)\n",
    "model = AutoModelForSequenceClassification.from_pretrained(MODEL)\n",
    "\n",
    "# Move model to GPU if available\n",
    "device = torch.device(\"cuda\" if torch.cuda.is_available() else \"cpu\")\n",
    "model.to(device)\n",
    "\n",
    "# Get label mapping\n",
    "id2label = model.config.id2label\n",
    "\n",
    "def classify_emotions(text):\n",
    "    \"\"\"\n",
    "    Run multi-label emotion classification\n",
    "    Args:\n",
    "        text (str): Input sentence\n",
    "    Returns:\n",
    "        dict: all emotions with probabilities (sorted by score)\n",
    "    \"\"\"\n",
    "    # Tokenize input and move to GPU/CPU\n",
    "    inputs = tokenizer(text, return_tensors=\"pt\", truncation=True).to(device)\n",
    "\n",
    "    # Run inference\n",
    "    with torch.no_grad():\n",
    "        outputs = model(**inputs)\n",
    "        logits = outputs.logits\n",
    "        probs = F.sigmoid(logits)[0].cpu().numpy()  # multi-label uses sigmoid\n",
    "\n",
    "    # Get all emotions with probabilities\n",
    "    results = {id2label[i]: float(probs[i]) for i in range(len(probs))}\n",
    "\n",
    "    # Sort by probability (descending)\n",
    "    results = dict(sorted(results.items(), key=lambda x: x[1], reverse=True))\n",
    "    return results\n",
    "\n",
    "# 🔹 Example usage\n",
    "if __name__ == \"__main__\":\n",
    "    sentence = \"I failed in my exams i feel sad\"\n",
    "    emotions = classify_emotions(sentence)\n",
    "\n",
    "    print(\"Input:\", sentence)\n",
    "    print(\"Detected Emotions (sorted):\")\n",
    "    for emotion, score in emotions.items():\n",
    "        print(f\"  {emotion}: {score:.3f}\")\n"
   ]
  },
  {
   "cell_type": "markdown",
   "id": "48cab420",
   "metadata": {},
   "source": [
    "## ethandavey/mental-health-diagnosis-bert"
   ]
  },
  {
   "cell_type": "code",
   "execution_count": 5,
   "id": "9a25aa02",
   "metadata": {},
   "outputs": [
    {
     "name": "stderr",
     "output_type": "stream",
     "text": [
      "d:\\Hackathons\\SIH 25\\sih_env\\Lib\\site-packages\\huggingface_hub\\file_download.py:143: UserWarning: `huggingface_hub` cache-system uses symlinks by default to efficiently store duplicated files but your machine does not support them in C:\\Users\\nithi\\.cache\\huggingface\\hub\\models--ethandavey--mental-health-diagnosis-bert. Caching files will still work but in a degraded version that might require more space on your disk. This warning can be disabled by setting the `HF_HUB_DISABLE_SYMLINKS_WARNING` environment variable. For more details, see https://huggingface.co/docs/huggingface_hub/how-to-cache#limitations.\n",
      "To support symlinks on Windows, you either need to activate Developer Mode or to run Python as an administrator. In order to activate developer mode, see this article: https://docs.microsoft.com/en-us/windows/apps/get-started/enable-your-device-for-development\n",
      "  warnings.warn(message)\n",
      "Xet Storage is enabled for this repo, but the 'hf_xet' package is not installed. Falling back to regular HTTP download. For better performance, install the package with: `pip install huggingface_hub[hf_xet]` or `pip install hf_xet`\n"
     ]
    },
    {
     "name": "stdout",
     "output_type": "stream",
     "text": [
      "Prediction: Depression, Confidence: 0.63\n"
     ]
    }
   ],
   "source": [
    "from transformers import AutoTokenizer, AutoModelForSequenceClassification\n",
    "import torch.nn.functional as F\n",
    "\n",
    "# Load model and tokenizer\n",
    "tokenizer = AutoTokenizer.from_pretrained(\"ethandavey/mental-health-diagnosis-bert\")\n",
    "model = AutoModelForSequenceClassification.from_pretrained(\"ethandavey/mental-health-diagnosis-bert\")\n",
    "\n",
    "# Prepare text\n",
    "text = \"I failed in my exams i feel sad\"\n",
    "inputs = tokenizer(text, return_tensors=\"pt\", padding=True, truncation=True, max_length=128)\n",
    "\n",
    "# Make prediction\n",
    "with torch.no_grad():\n",
    "    outputs = model(**inputs)\n",
    "    probabilities = F.softmax(outputs.logits, dim=1)\n",
    "\n",
    "# Map prediction to label\n",
    "label_mapping = {0: \"Anxiety\", 1: \"Normal\", 2: \"Depression\", 3: \"Suicidal\", 4: \"Stress\"}\n",
    "predicted_class = torch.argmax(probabilities, dim=1).item()\n",
    "prediction = label_mapping[predicted_class]\n",
    "confidence = probabilities[0][predicted_class].item()\n",
    "\n",
    "print(f\"Prediction: {prediction}, Confidence: {confidence:.2f}\")\n"
   ]
  },
  {
   "cell_type": "markdown",
   "id": "ba5ee0a2",
   "metadata": {},
   "source": [
    "## sri1208/mental_health_classifier"
   ]
  },
  {
   "cell_type": "code",
   "execution_count": 6,
   "id": "5edeeb11",
   "metadata": {},
   "outputs": [
    {
     "name": "stderr",
     "output_type": "stream",
     "text": [
      "d:\\Hackathons\\SIH 25\\sih_env\\Lib\\site-packages\\huggingface_hub\\file_download.py:143: UserWarning: `huggingface_hub` cache-system uses symlinks by default to efficiently store duplicated files but your machine does not support them in C:\\Users\\nithi\\.cache\\huggingface\\hub\\models--sri1208--mental_health_classifier. Caching files will still work but in a degraded version that might require more space on your disk. This warning can be disabled by setting the `HF_HUB_DISABLE_SYMLINKS_WARNING` environment variable. For more details, see https://huggingface.co/docs/huggingface_hub/how-to-cache#limitations.\n",
      "To support symlinks on Windows, you either need to activate Developer Mode or to run Python as an administrator. In order to activate developer mode, see this article: https://docs.microsoft.com/en-us/windows/apps/get-started/enable-your-device-for-development\n",
      "  warnings.warn(message)\n",
      "Xet Storage is enabled for this repo, but the 'hf_xet' package is not installed. Falling back to regular HTTP download. For better performance, install the package with: `pip install huggingface_hub[hf_xet]` or `pip install hf_xet`\n"
     ]
    },
    {
     "name": "stdout",
     "output_type": "stream",
     "text": [
      "Input: I failed in my exams i feel sad\n",
      "Detected Emotions (sorted):\n",
      "  LABEL_0: 0.989\n",
      "  LABEL_1: 0.009\n",
      "  LABEL_2: 0.006\n",
      "  LABEL_3: 0.001\n",
      "  LABEL_4: 0.001\n"
     ]
    }
   ],
   "source": [
    "from transformers import AutoTokenizer, AutoModelForSequenceClassification\n",
    "import torch\n",
    "import torch.nn.functional as F\n",
    "\n",
    "# 🔹 Load tokenizer & model\n",
    "MODEL = \"sri1208/mental_health_classifier\"\n",
    "tokenizer = AutoTokenizer.from_pretrained(MODEL)\n",
    "model = AutoModelForSequenceClassification.from_pretrained(MODEL)\n",
    "\n",
    "# Move model to GPU if available\n",
    "device = torch.device(\"cuda\" if torch.cuda.is_available() else \"cpu\")\n",
    "model.to(device)\n",
    "\n",
    "# Get label mapping\n",
    "id2label = model.config.id2label\n",
    "\n",
    "def classify_emotions(text):\n",
    "    \"\"\"\n",
    "    Run multi-label emotion classification\n",
    "    Args:\n",
    "        text (str): Input sentence\n",
    "    Returns:\n",
    "        dict: all emotions with probabilities (sorted by score)\n",
    "    \"\"\"\n",
    "    # Tokenize input and move to GPU/CPU\n",
    "    inputs = tokenizer(text, return_tensors=\"pt\", truncation=True).to(device)\n",
    "\n",
    "    # Run inference\n",
    "    with torch.no_grad():\n",
    "        outputs = model(**inputs)\n",
    "        logits = outputs.logits\n",
    "        probs = F.sigmoid(logits)[0].cpu().numpy()  # multi-label uses sigmoid\n",
    "\n",
    "    # Get all emotions with probabilities\n",
    "    results = {id2label[i]: float(probs[i]) for i in range(len(probs))}\n",
    "\n",
    "    # Sort by probability (descending)\n",
    "    results = dict(sorted(results.items(), key=lambda x: x[1], reverse=True))\n",
    "    return results\n",
    "\n",
    "# 🔹 Example usage\n",
    "if __name__ == \"__main__\":\n",
    "    sentence = \"I failed in my exams i feel sad\"\n",
    "    emotions = classify_emotions(sentence)\n",
    "\n",
    "    print(\"Input:\", sentence)\n",
    "    print(\"Detected Emotions (sorted):\")\n",
    "    for emotion, score in emotions.items():\n",
    "        print(f\"  {emotion}: {score:.3f}\")\n",
    "\n",
    "# LABEL_0 → anxiety\n",
    "# LABEL_1 → depression\n",
    "# LABEL_2 → normal\n",
    "# LABEL_3 → bipolar\n",
    "# LABEL_4 → suicide"
   ]
  }
 ],
 "metadata": {
  "kernelspec": {
   "display_name": "sih_env",
   "language": "python",
   "name": "python3"
  },
  "language_info": {
   "codemirror_mode": {
    "name": "ipython",
    "version": 3
   },
   "file_extension": ".py",
   "mimetype": "text/x-python",
   "name": "python",
   "nbconvert_exporter": "python",
   "pygments_lexer": "ipython3",
   "version": "3.11.0"
  }
 },
 "nbformat": 4,
 "nbformat_minor": 5
}

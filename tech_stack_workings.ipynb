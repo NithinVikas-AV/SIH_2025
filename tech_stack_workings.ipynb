{
 "cells": [
  {
   "cell_type": "markdown",
   "id": "3818efd1",
   "metadata": {},
   "source": [
    "### Mental Bot - **ALIENTELLIGENCE/mindwell**"
   ]
  },
  {
   "cell_type": "code",
   "execution_count": null,
   "id": "ae3e9a04",
   "metadata": {},
   "outputs": [],
   "source": [
    "# https://www.cohorte.co/blog/using-ollama-with-python-step-by-step-guide\n",
    "# https://medium.com/@jonigl/using-ollama-with-python-a-simple-guide-0752369e1e55"
   ]
  },
  {
   "cell_type": "code",
   "execution_count": 3,
   "id": "5d90f100",
   "metadata": {},
   "outputs": [
    {
     "name": "stdout",
     "output_type": "stream",
     "text": [
      "Streaming response:\n",
      "I'm so sorry to hear that you're feeling this way. It's completely understandable to feel overwhelmed by the challenges of PCOD, and it's heartbreaking to experience stigma and judgment from others.\n",
      "\n",
      "Firstly, please know that you are not alone in feeling this way. Many people have been through similar experiences, and there is hope for a better tomorrow. Let's focus on some steps we can take together to help you feel more supported and empowered:\n",
      "\n",
      "1. **Allow yourself to feel your emotions**: It's essential to acknowledge and validate your feelings, rather than trying to suppress them. Permit yourself to grieve the losses you've experienced due to PCOD, and allow yourself to feel sad or angry.\n",
      "2. **Practice self-compassion**: Be kind to yourself, just as you would a close friend. Treat yourself with understanding, patience, and support. Remind yourself that it's okay to not be okay right now.\n",
      "3. **Focus on what you can control**: Instead of dwelling on the negative comments or judgments from others, focus on what you can control – your thoughts, emotions, and actions. You have the power to choose how you respond to situations.\n",
      "4. **Surround yourself with positive influences**: Spend time with people who uplift and support you. Reach out to friends, family members, or online communities that share similar experiences and offer encouragement.\n",
      "5. **Practice self-care**: Engage in activities that bring you joy and relaxation. Whether it's reading, walking, painting, or cooking, make time for hobbies that help you feel more grounded and fulfilled.\n",
      "6. **Reframe your thinking**: Challenge negative thoughts by reframing them in a more positive light. For example, instead of thinking \"I'm so worthless because I look stout,\" try reframing it as \"I have PCOD, but I'm working on managing it, and I'm strong for facing this challenge.\"\n",
      "7. **Find supportive online resources**: There are many online communities and forums dedicated to supporting women with PCOD and body image issues. You might find solace in sharing your experiences and connecting with others who understand what you're going through.\n",
      "8. **Reach out for professional help**: If you're struggling to cope with feelings of low self-worth, anxiety, or depression, consider reaching out to a mental health professional for support.\n",
      "\n",
      "Remember, you are more than your physical appearance or medical condition. You are a unique and valuable individual with worth, love, and deservingness of happiness.\n",
      "\n",
      "Keep in mind that it's okay to take things one step at a time. We'll work together to build a plan that suits your needs and helps you feel more confident and empowered.\n",
      "\n",
      "How do these suggestions resonate with you? Is there anything specific that resonates or feels like a good starting point for you?\n"
     ]
    }
   ],
   "source": [
    "# Just to see all the intermiate words instead os seeing everything in single stretch\n",
    "\n",
    "from ollama import generate\n",
    "# Streaming response\n",
    "print(\"Streaming response:\")\n",
    "for chunk in generate('ALIENTELLIGENCE/mindwell', \"\"\"I am feeling so depressed cause i have pcod issues and because of that i look very stout and lot of my friends , family and even strangers look at me differently ,ill treat ,discriminate me. At times i feel very low and i feel like why on earth i should live and isn’t there a single soul who likes and cares for me.These thoughts even make me feel like dying.\n",
    "What do i do help me with my situation. Dont give me any medical diagnosis and avoid unnecessary informations\"\"\", stream=True):\n",
    "    print(chunk['response'], end='', flush=True)\n",
    "print()"
   ]
  },
  {
   "cell_type": "code",
   "execution_count": null,
   "id": "fe9ef97d",
   "metadata": {},
   "outputs": [
    {
     "name": "stdout",
     "output_type": "stream",
     "text": [
      "I'm so sorry to hear that you're feeling this way. First, please know that I'm here to listen and support you without judgment.\n",
      "\n",
      "It takes immense courage to share your feelings with someone like me. I want you to feel heard and understood.\n",
      "\n",
      "Here's a big hug: **You are not alone**. Many people face similar struggles, and it's okay to feel overwhelmed. Your thoughts may be clouded by these feelings, but they don't define your worth as a person.\n",
      "\n",
      "Let's focus on some strategies that might help:\n",
      "\n",
      "1.  **Self-compassion**: Practice kindness towards yourself. Remind yourself that you're doing the best you can with what you have. Treat yourself with the same care and understanding you would offer to a close friend.\n",
      "2.  **Connect with loved ones**: Reach out to trusted family members, friends, or a support group. Sharing your feelings with people who care about you can help you feel seen and heard.\n",
      "3.  **Self-care**: Engage in activities that bring you comfort and joy. This could be anything from reading, listening to soothing music, taking long walks, or practicing yoga. Make time for yourself each day to recharge.\n",
      "4.  **Positive affirmations**: Repeat affirmations like \"I am loved,\" \"I am worthy of love and respect,\" or \"I am enough.\" These statements can help counteract negative thoughts and boost your self-esteem.\n",
      "5.  **Mindfulness exercises**: Practice mindfulness techniques, such as meditation or deep breathing exercises, to calm your mind and body.\n",
      "\n",
      "You are more than your physical appearance or the challenges you face. You have a unique spirit, talents, and experiences that make you special. Your life is valuable and has worth.\n",
      "\n",
      "When these dark thoughts arise, remember that they're not a reflection of your true value as a person. You can navigate this difficult time with support, self-compassion, and patience.\n",
      "\n",
      "If you need to talk or want someone to listen, there are resources available:\n",
      "\n",
      "*   **National Suicide Prevention Lifeline (US)**: 1-800-273-TALK (8255) (24/7)\n",
      "*   **Crisis Text Line (US)**: Text HOME to 741741 (24/7)\n",
      "\n",
      "Please don't hesitate to reach out when you need support.\n"
     ]
    }
   ],
   "source": [
    "import ollama\n",
    "\n",
    "# Use the generate function for a one-off prompt\n",
    "result = ollama.generate(model='ALIENTELLIGENCE/mindwell', prompt=\"\"\"I am feeling so depressed cause i have pcod issues and because of that i look very stout and lot of my friends , family and even strangers look at me differently ,ill treat ,discriminate me. At times i feel very low and i feel like why on earth i should live and isn’t there a single soul who likes and cares for me.These thoughts even make me feel like dying.\n",
    "What do i do help me with my situation. Dont give me any medical diagnosis and avoid unnecessary informations\"\"\")\n",
    "print(result['response'])"
   ]
  },
  {
   "cell_type": "code",
   "execution_count": 5,
   "id": "365d734d",
   "metadata": {},
   "outputs": [
    {
     "name": "stdout",
     "output_type": "stream",
     "text": [
      "Bot: Hello! Welcome to our medical health chat platform. I'm here to provide you with information, guidance, and support on various health-related topics. What's on your mind? Do you have any specific questions or concerns about your physical or mental well-being?\n",
      "\n",
      "Please feel free to ask me anything, from general health queries to more detailed questions about a specific condition. I'll do my best to provide accurate and reliable information to help you make informed decisions about your health.\n",
      "\n",
      "Is there something in particular that's been on your mind lately?\n",
      "Bot: I'm so sorry to hear that you're feeling depressed. Please know that I'm here to listen and provide some support.\n",
      "\n",
      "Depression is a common and serious mental health condition that affects many people. It's not a sign of weakness, and it's not something you can just \"snap out of.\" But with the right help and support, you can feel better.\n",
      "\n",
      "Before we talk further, I want to let you know that:\n",
      "\n",
      "1. **You're not alone**: Many people have felt like you do, and they've recovered.\n",
      "2. **It's okay to ask for help**: Talking about your feelings is a brave step towards feeling better.\n",
      "3. **We can explore treatment options together**: We can discuss what might be causing your depression and see if there are any medications or therapies that could help.\n",
      "\n",
      "To get started, can you tell me a bit more about how you've been feeling? What's been going on in your life that might be contributing to these feelings?\n",
      "\n",
      "Also, have you talked to anyone about this before, such as friends, family, or a doctor?\n"
     ]
    }
   ],
   "source": [
    "import ollama\n",
    "\n",
    "# Choose a chat-capable model (ensured it is pulled)\n",
    "model_name = 'ALIENTELLIGENCE/mindwell'\n",
    "\n",
    "# Initialize conversation with a system prompt (optional) and a user message\n",
    "messages = [\n",
    "    {\"role\": \"system\", \"content\": \"You are a helpful Medical Health Bot.\"},\n",
    "    {\"role\": \"user\", \"content\": \"Hello!\"},\n",
    "]\n",
    "\n",
    "# First response from the bot\n",
    "response = ollama.chat(model=model_name, messages=messages)\n",
    "print(\"Bot:\", response.message.content)\n",
    "\n",
    "# Continue the conversation:\n",
    "while True:\n",
    "    user_input = input(\"You: \")\n",
    "    if not user_input:\n",
    "        break  # exit loop on empty input\n",
    "    messages.append({\"role\": \"user\", \"content\": user_input})\n",
    "    response = ollama.chat(model=model_name, messages=messages)\n",
    "    answer = response.message.content\n",
    "    print(\"Bot:\", answer)\n",
    "    messages.append({\"role\": \"assistant\", \"content\": answer})"
   ]
  },
  {
   "cell_type": "markdown",
   "id": "47e86a25",
   "metadata": {},
   "source": [
    "### Emotion Classification - **joeddav/distilbert-base-uncased-go-emotions-student**"
   ]
  },
  {
   "cell_type": "code",
   "execution_count": 1,
   "id": "56d01c8b",
   "metadata": {},
   "outputs": [
    {
     "name": "stderr",
     "output_type": "stream",
     "text": [
      "d:\\Hackathons\\SIH 25\\sih_env\\Lib\\site-packages\\tqdm\\auto.py:21: TqdmWarning: IProgress not found. Please update jupyter and ipywidgets. See https://ipywidgets.readthedocs.io/en/stable/user_install.html\n",
      "  from .autonotebook import tqdm as notebook_tqdm\n"
     ]
    },
    {
     "name": "stdout",
     "output_type": "stream",
     "text": [
      "Input: I am feeling so depressed cause i have pcod issues and because of that i look very stout and lot of my friends , family and even strangers look at me differently ,ill treat ,discriminate me. At times i feel very low and i feel like why on earth i should live and isn’t there a single soul who likes and cares for me.These thoughts even make me feel like dying.\n",
      "What do i do help me with my situation. Dont give me any medical diagnosis and avoid unnecessary informations\n",
      "Detected Emotions (sorted):\n",
      "  sadness: 0.913\n",
      "  remorse: 0.776\n",
      "  confusion: 0.749\n",
      "  disappointment: 0.714\n",
      "  disapproval: 0.637\n",
      "  caring: 0.607\n",
      "  grief: 0.574\n",
      "  curiosity: 0.571\n",
      "  embarrassment: 0.546\n",
      "  realization: 0.525\n",
      "  desire: 0.524\n",
      "  fear: 0.470\n",
      "  disgust: 0.459\n",
      "  annoyance: 0.443\n",
      "  neutral: 0.418\n",
      "  approval: 0.400\n",
      "  nervousness: 0.350\n",
      "  surprise: 0.310\n",
      "  anger: 0.292\n",
      "  pride: 0.251\n",
      "  relief: 0.233\n",
      "  optimism: 0.217\n",
      "  admiration: 0.208\n",
      "  excitement: 0.204\n",
      "  love: 0.152\n",
      "  joy: 0.131\n",
      "  gratitude: 0.120\n",
      "  amusement: 0.111\n"
     ]
    }
   ],
   "source": [
    "from transformers import AutoTokenizer, AutoModelForSequenceClassification\n",
    "import torch\n",
    "import torch.nn.functional as F\n",
    "\n",
    "# 🔹 Load tokenizer & model\n",
    "MODEL = \"joeddav/distilbert-base-uncased-go-emotions-student\"\n",
    "tokenizer = AutoTokenizer.from_pretrained(MODEL)\n",
    "model = AutoModelForSequenceClassification.from_pretrained(MODEL)\n",
    "\n",
    "# Move model to GPU if available\n",
    "device = torch.device(\"cuda\" if torch.cuda.is_available() else \"cpu\")\n",
    "model.to(device)\n",
    "\n",
    "# Get label mapping\n",
    "id2label = model.config.id2label\n",
    "\n",
    "def classify_emotions(text):\n",
    "    \"\"\"\n",
    "    Run multi-label emotion classification\n",
    "    Args:\n",
    "        text (str): Input sentence\n",
    "    Returns:\n",
    "        dict: all emotions with probabilities (sorted by score)\n",
    "    \"\"\"\n",
    "    # Tokenize input and move to GPU/CPU\n",
    "    inputs = tokenizer(text, return_tensors=\"pt\", truncation=True).to(device)\n",
    "\n",
    "    # Run inference\n",
    "    with torch.no_grad():\n",
    "        outputs = model(**inputs)\n",
    "        logits = outputs.logits\n",
    "        probs = F.sigmoid(logits)[0].cpu().numpy()  # multi-label uses sigmoid\n",
    "\n",
    "    # Get all emotions with probabilities\n",
    "    results = {id2label[i]: float(probs[i]) for i in range(len(probs))}\n",
    "\n",
    "    # Sort by probability (descending)\n",
    "    results = dict(sorted(results.items(), key=lambda x: x[1], reverse=True))\n",
    "    return results\n",
    "\n",
    "# 🔹 Example usage\n",
    "if __name__ == \"__main__\":\n",
    "    sentence = \"\"\"I am feeling so depressed cause i have pcod issues and because of that i look very stout and lot of my friends , family and even strangers look at me differently ,ill treat ,discriminate me. At times i feel very low and i feel like why on earth i should live and isn’t there a single soul who likes and cares for me.These thoughts even make me feel like dying.\n",
    "What do i do help me with my situation. Dont give me any medical diagnosis and avoid unnecessary informations\"\"\"\n",
    "    emotions = classify_emotions(sentence)\n",
    "\n",
    "    print(\"Input:\", sentence)\n",
    "    print(\"Detected Emotions (sorted):\")\n",
    "    for emotion, score in emotions.items():\n",
    "        print(f\"  {emotion}: {score:.3f}\")"
   ]
  }
 ],
 "metadata": {
  "kernelspec": {
   "display_name": "sih_env",
   "language": "python",
   "name": "python3"
  },
  "language_info": {
   "codemirror_mode": {
    "name": "ipython",
    "version": 3
   },
   "file_extension": ".py",
   "mimetype": "text/x-python",
   "name": "python",
   "nbconvert_exporter": "python",
   "pygments_lexer": "ipython3",
   "version": "3.11.0"
  }
 },
 "nbformat": 4,
 "nbformat_minor": 5
}
